{
 "cells": [
  {
   "cell_type": "code",
   "execution_count": 6,
   "metadata": {},
   "outputs": [],
   "source": [
    "from keras_segmentation.models.segnet import *\n",
    "import numpy as np\n",
    "from keras_segmentation.predict import predict_multiple, predict, evaluate\n",
    "from keras_segmentation.models import all_models\n",
    "import matplotlib.pyplot as plt\n",
    "import cv2\n",
    "import pandas as pd\n",
    "import tensorflow as tf\n",
    "\n",
    "train_images =  \"training_set/train_img/\"\n",
    "train_annotations = \"training_set/train_ana/\"\n",
    "val_images=\"training_set/val_img/\"\n",
    "val_annotations=\"training_set/val_ana/\""
   ]
  },
  {
   "cell_type": "code",
   "execution_count": 2,
   "metadata": {},
   "outputs": [
    {
     "name": "stdout",
     "output_type": "stream",
     "text": [
      "Metal device set to: Apple M1 Pro\n",
      "\n",
      "systemMemory: 16.00 GB\n",
      "maxCacheSize: 5.33 GB\n",
      "\n"
     ]
    },
    {
     "name": "stderr",
     "output_type": "stream",
     "text": [
      "2022-06-27 23:40:25.741567: I tensorflow/core/common_runtime/pluggable_device/pluggable_device_factory.cc:305] Could not identify NUMA node of platform GPU ID 0, defaulting to 0. Your kernel may not have been built with NUMA support.\n",
      "2022-06-27 23:40:25.741940: I tensorflow/core/common_runtime/pluggable_device/pluggable_device_factory.cc:271] Created TensorFlow device (/job:localhost/replica:0/task:0/device:GPU:0 with 0 MB memory) -> physical PluggableDevice (device: 0, name: METAL, pci bus id: <undefined>)\n"
     ]
    },
    {
     "name": "stdout",
     "output_type": "stream",
     "text": [
      "Model: \"model_3\"\n",
      "____________________________________________________________________________\n",
      " Layer (type)                Output Shape              Param #   Trainable  \n",
      "============================================================================\n",
      " input_1 (InputLayer)        [(None, 1056, 1440, 3)]   0         N          \n",
      "                                                                            \n",
      " block1_conv1 (Conv2D)       (None, 1056, 1440, 64)    1792      N          \n",
      "                                                                            \n",
      " block1_conv2 (Conv2D)       (None, 1056, 1440, 64)    36928     N          \n",
      "                                                                            \n",
      " block1_pool (MaxPooling2D)  (None, 528, 720, 64)      0         N          \n",
      "                                                                            \n",
      " block2_conv1 (Conv2D)       (None, 528, 720, 128)     73856     N          \n",
      "                                                                            \n",
      " block2_conv2 (Conv2D)       (None, 528, 720, 128)     147584    N          \n",
      "                                                                            \n",
      " block2_pool (MaxPooling2D)  (None, 264, 360, 128)     0         N          \n",
      "                                                                            \n",
      " block3_conv1 (Conv2D)       (None, 264, 360, 256)     295168    N          \n",
      "                                                                            \n",
      " block3_conv2 (Conv2D)       (None, 264, 360, 256)     590080    N          \n",
      "                                                                            \n",
      " block3_conv3 (Conv2D)       (None, 264, 360, 256)     590080    N          \n",
      "                                                                            \n",
      " block3_pool (MaxPooling2D)  (None, 132, 180, 256)     0         N          \n",
      "                                                                            \n",
      " block4_conv1 (Conv2D)       (None, 132, 180, 512)     1180160   N          \n",
      "                                                                            \n",
      " block4_conv2 (Conv2D)       (None, 132, 180, 512)     2359808   N          \n",
      "                                                                            \n",
      " block4_conv3 (Conv2D)       (None, 132, 180, 512)     2359808   N          \n",
      "                                                                            \n",
      " block4_pool (MaxPooling2D)  (None, 66, 90, 512)       0         N          \n",
      "                                                                            \n",
      " zero_padding2d (ZeroPadding  (None, 68, 92, 512)      0         Y          \n",
      " 2D)                                                                        \n",
      "                                                                            \n",
      " conv2d (Conv2D)             (None, 66, 90, 512)       2359808   Y          \n",
      "                                                                            \n",
      " batch_normalization (BatchN  (None, 66, 90, 512)      2048      Y          \n",
      " ormalization)                                                              \n",
      "                                                                            \n",
      " up_sampling2d (UpSampling2D  (None, 132, 180, 512)    0         Y          \n",
      " )                                                                          \n",
      "                                                                            \n",
      " zero_padding2d_1 (ZeroPaddi  (None, 134, 182, 512)    0         Y          \n",
      " ng2D)                                                                      \n",
      "                                                                            \n",
      " conv2d_1 (Conv2D)           (None, 132, 180, 256)     1179904   Y          \n",
      "                                                                            \n",
      " batch_normalization_1 (Batc  (None, 132, 180, 256)    1024      Y          \n",
      " hNormalization)                                                            \n",
      "                                                                            \n",
      " up_sampling2d_1 (UpSampling  (None, 264, 360, 256)    0         Y          \n",
      " 2D)                                                                        \n",
      "                                                                            \n",
      " zero_padding2d_2 (ZeroPaddi  (None, 266, 362, 256)    0         Y          \n",
      " ng2D)                                                                      \n",
      "                                                                            \n",
      " conv2d_2 (Conv2D)           (None, 264, 360, 128)     295040    Y          \n",
      "                                                                            \n",
      " batch_normalization_2 (Batc  (None, 264, 360, 128)    512       Y          \n",
      " hNormalization)                                                            \n",
      "                                                                            \n",
      " up_sampling2d_2 (UpSampling  (None, 528, 720, 128)    0         Y          \n",
      " 2D)                                                                        \n",
      "                                                                            \n",
      " zero_padding2d_3 (ZeroPaddi  (None, 530, 722, 128)    0         Y          \n",
      " ng2D)                                                                      \n",
      "                                                                            \n",
      " seg_feats (Conv2D)          (None, 528, 720, 64)      73792     Y          \n",
      "                                                                            \n",
      " batch_normalization_3 (Batc  (None, 528, 720, 64)     256       Y          \n",
      " hNormalization)                                                            \n",
      "                                                                            \n",
      " conv2d_3 (Conv2D)           (None, 528, 720, 7)       4039      Y          \n",
      "                                                                            \n",
      " reshape (Reshape)           (None, 380160, 7)         0         Y          \n",
      "                                                                            \n",
      " activation (Activation)     (None, 380160, 7)         0         Y          \n",
      "                                                                            \n",
      "============================================================================\n",
      "Total params: 11,551,687\n",
      "Trainable params: 3,914,503\n",
      "Non-trainable params: 7,637,184\n",
      "____________________________________________________________________________\n",
      "Using vgg_segnet_1.1_frozen model\n"
     ]
    }
   ],
   "source": [
    "model_name = [\"vgg_segnet\", \"resnet50_segnet\", \"vgg_unet\", \"resnet50_unet\", \"vgg_pspnet\", \"resnet50_pspnet\"]\n",
    "cm = 0\n",
    "m_version = '_1.1'\n",
    "\n",
    "model = all_models.model_from_name[model_name[cm]](n_classes=7, input_height=1056, input_width=1440)\n",
    "# model = all_models.model_from_name[model_name[cm]](n_classes=7, input_height=960, input_width=1344)   ###  This is for pspnet model size\n",
    "\n",
    "\n",
    "if cm % 2 == 0:\n",
    "    L_num = 15\n",
    "    # L_num = 20      ###This is for pspnet model size\n",
    "else:\n",
    "    L_num = 141\n",
    "    # L_num = 175     ###This is for pspnet model size\n",
    "\n",
    "freeze = True\n",
    "if freeze:\n",
    "    m_version = m_version+\"_frozen\"\n",
    "    for L in range(L_num):\n",
    "        model.get_layer(index=L).trainable = False\n",
    "model.summary(show_trainable=True)\n",
    "\n",
    "print(\"Using \"+model_name[cm]+m_version+\" model\")\n"
   ]
  },
  {
   "cell_type": "code",
   "execution_count": 62,
   "metadata": {},
   "outputs": [
    {
     "name": "stdout",
     "output_type": "stream",
     "text": [
      "Verifying training dataset\n"
     ]
    },
    {
     "name": "stderr",
     "output_type": "stream",
     "text": [
      "100%|██████████| 185/185 [00:07<00:00, 23.47it/s]\n"
     ]
    },
    {
     "name": "stdout",
     "output_type": "stream",
     "text": [
      "Dataset verified! \n",
      "Verifying validation dataset\n"
     ]
    },
    {
     "name": "stderr",
     "output_type": "stream",
     "text": [
      "100%|██████████| 75/75 [00:03<00:00, 23.76it/s]\n"
     ]
    },
    {
     "name": "stdout",
     "output_type": "stream",
     "text": [
      "Dataset verified! \n"
     ]
    },
    {
     "name": "stderr",
     "output_type": "stream",
     "text": [
      "2022-06-28 06:37:47.557770: I tensorflow/core/grappler/optimizers/custom_graph_optimizer_registry.cc:113] Plugin optimizer for device_type GPU is enabled.\n"
     ]
    },
    {
     "name": "stdout",
     "output_type": "stream",
     "text": [
      "2/2 [==============================] - ETA: 0s - loss: 0.6892 - accuracy: 0.9783"
     ]
    },
    {
     "name": "stderr",
     "output_type": "stream",
     "text": [
      "2022-06-28 06:37:53.426379: I tensorflow/core/grappler/optimizers/custom_graph_optimizer_registry.cc:113] Plugin optimizer for device_type GPU is enabled.\n"
     ]
    },
    {
     "name": "stdout",
     "output_type": "stream",
     "text": [
      "\n",
      "Epoch 1: saving model to ./checkpoints/vgg_segnet_1.1_frozen/vgg_segnet.00001\n",
      "2/2 [==============================] - 11s 8s/step - loss: 0.6892 - accuracy: 0.9783 - val_loss: 19.4967 - val_accuracy: 0.2347\n"
     ]
    },
    {
     "name": "stderr",
     "output_type": "stream",
     "text": [
      "0it [00:00, ?it/s]2022-06-28 06:37:58.859614: I tensorflow/core/grappler/optimizers/custom_graph_optimizer_registry.cc:113] Plugin optimizer for device_type GPU is enabled.\n",
      "75it [00:32,  2.32it/s]\n"
     ]
    },
    {
     "name": "stdout",
     "output_type": "stream",
     "text": [
      "{'frequency_weighted_IU': 0.21204005809772689, 'mean_IU': 0.03612183619241975, 'class_wise_IU': array([0.21780012, 0.03505274, 0.        , 0.        , 0.        ,\n",
      "       0.        , 0.        ])}\n",
      "Loading the weights from latest checkpoint  ./checkpoints/vgg_segnet_1.1_frozen/vgg_segnet.00001\n",
      "Verifying training dataset\n"
     ]
    },
    {
     "name": "stderr",
     "output_type": "stream",
     "text": [
      "100%|██████████| 185/185 [00:07<00:00, 23.30it/s]\n"
     ]
    },
    {
     "name": "stdout",
     "output_type": "stream",
     "text": [
      "Dataset verified! \n",
      "Verifying validation dataset\n"
     ]
    },
    {
     "name": "stderr",
     "output_type": "stream",
     "text": [
      "100%|██████████| 75/75 [00:03<00:00, 23.45it/s]\n"
     ]
    },
    {
     "name": "stdout",
     "output_type": "stream",
     "text": [
      "Dataset verified! \n",
      "Epoch 2/2\n"
     ]
    },
    {
     "name": "stderr",
     "output_type": "stream",
     "text": [
      "2022-06-28 06:38:43.883246: I tensorflow/core/grappler/optimizers/custom_graph_optimizer_registry.cc:113] Plugin optimizer for device_type GPU is enabled.\n"
     ]
    },
    {
     "name": "stdout",
     "output_type": "stream",
     "text": [
      "2/2 [==============================] - ETA: 0s - loss: 0.6474 - accuracy: 0.9514"
     ]
    },
    {
     "name": "stderr",
     "output_type": "stream",
     "text": [
      "2022-06-28 06:38:49.102688: I tensorflow/core/grappler/optimizers/custom_graph_optimizer_registry.cc:113] Plugin optimizer for device_type GPU is enabled.\n"
     ]
    },
    {
     "name": "stdout",
     "output_type": "stream",
     "text": [
      "\n",
      "Epoch 2: saving model to ./checkpoints/vgg_segnet_1.1_frozen/vgg_segnet.00002\n",
      "2/2 [==============================] - 11s 7s/step - loss: 0.6474 - accuracy: 0.9514 - val_loss: 20.5788 - val_accuracy: 0.1915\n"
     ]
    },
    {
     "name": "stderr",
     "output_type": "stream",
     "text": [
      "0it [00:00, ?it/s]2022-06-28 06:38:54.491484: I tensorflow/core/grappler/optimizers/custom_graph_optimizer_registry.cc:113] Plugin optimizer for device_type GPU is enabled.\n",
      "75it [00:32,  2.29it/s]\n"
     ]
    },
    {
     "name": "stdout",
     "output_type": "stream",
     "text": [
      "{'frequency_weighted_IU': 0.18740174914193647, 'mean_IU': 0.03413067864863314, 'class_wise_IU': array([1.92045072e-01, 4.67058998e-02, 1.07639139e-04, 5.61394669e-05,\n",
      "       0.00000000e+00, 0.00000000e+00, 0.00000000e+00])}\n"
     ]
    },
    {
     "name": "stderr",
     "output_type": "stream",
     "text": [
      "100%|██████████| 75/75 [00:30<00:00,  2.42it/s]\n",
      "100%|██████████| 75/75 [00:34<00:00,  2.19it/s]\n"
     ]
    },
    {
     "data": {
      "image/png": "[encoded data removed]",
      "text/plain": [
       "<Figure size 432x288 with 1 Axes>"
      ]
     },
     "metadata": {
      "needs_background": "light"
     },
     "output_type": "display_data"
    }
   ],
   "source": [
    "checkpoints_path = \"./checkpoints/\"+model_name[cm]+m_version+\"/\"+model_name[cm]\n",
    "out_dir=\"output_dir/\"+model_name[cm]+m_version\n",
    "\n",
    "init_frames= {\"frequency_weighted_IU\":0, \"mean_IU\":0, 'background':0, 'normal':0, 'spiral':0, 'loose':0, 'tensioned':0, 'twisted':0, 'damage':0}\n",
    "frames = pd.DataFrame(init_frames,\n",
    "                            columns=[\"frequency_weighted_IU\", \"mean_IU\", 'background', 'normal', 'spiral', 'loose', 'tensioned', 'twisted', 'damage'],\n",
    "                            index = [0])\n",
    "\n",
    "\n",
    "for epochs in range(1,3,1):\n",
    "\n",
    "\n",
    "    model.train(\n",
    "        train_images =  \"training_set/train_img/\",\n",
    "        train_annotations = \"training_set/train_ana/\",\n",
    "        validate=True,\n",
    "        val_images=\"training_set/val_img/\",\n",
    "        val_annotations=\"training_set/val_ana/\",\n",
    "        auto_resume_checkpoint=True,\n",
    "        checkpoints_path = checkpoints_path, \n",
    "        epochs=epochs,\n",
    "        batch_size=2,\n",
    "        steps_per_epoch=2,\n",
    "        val_batch_size=2,\n",
    "        val_steps_per_epoch=8,\n",
    "        do_augment=True\n",
    "    )\n",
    "\n",
    "    ev = model.evaluate_segmentation(inp_images_dir=val_images, annotations_dir=val_annotations)\n",
    "    assert ev['frequency_weighted_IU'] > 0.01\n",
    "    print(ev)\n",
    "\n",
    "    class_names=['background', 'normal', 'spiral', 'loose', 'tensioned', 'twisted', 'damage']\n",
    "    ev_wiz_classes = {}\n",
    "    # ev_wiz_classes['epoch'] = epochs\n",
    "    ev_wiz_classes[\"frequency_weighted_IU\"] = ev[\"frequency_weighted_IU\"]\n",
    "    ev_wiz_classes[\"mean_IU\"] = ev[\"mean_IU\"]\n",
    "    i = 0\n",
    "    for class_name in class_names:\n",
    "        ev_wiz_classes[class_name] = ev[\"class_wise_IU\"][i]\n",
    "        i += 1\n",
    "    \n",
    "    frame = pd.DataFrame(ev_wiz_classes,\n",
    "                            columns=[\"frequency_weighted_IU\", \"mean_IU\", 'background', 'normal', 'spiral', 'loose', 'tensioned', 'twisted', 'damage'],\n",
    "                            index = [str(epochs)])\n",
    "\n",
    "    frames = [frames, frame]\n",
    "    frames = pd.concat(frames)\n",
    "    \n",
    "\n",
    "more_lines = ['','','', \"Model Name:\", str(model_name[cm]+m_version),\"checkpoints_path: \", checkpoints_path, \"model IOU: \", str(ev)]\n",
    "with open('models_evaluate.txt', 'a') as f:\n",
    "    f.writelines('\\n'.join(more_lines))\n",
    "    \n",
    "out_dir=\"output_dir/\"+model_name[cm]+m_version\n",
    "# checkpoints_path = './checkpoints/resnet50_segnet_1.0(unfrozen)/resnet50_segnet'\n",
    "\n",
    "predict_multiple(\n",
    "        model = model,\n",
    "        inp_dir = val_images, \n",
    "        # checkpoints_path = checkpoints_path, \n",
    "        out_dir = out_dir+\"/nomalSeg\")\n",
    "\n",
    "\n",
    "predict_multiple(\n",
    "        model = model, \n",
    "        inp_dir=val_images, \n",
    "        out_dir=out_dir+\"/overlay\",\n",
    "        # checkpoints_path=checkpoints_path, \n",
    "        overlay_img=True,\n",
    "        class_names=['_background_', 'normal', 'spiral', 'loose', 'tensioned', 'twisted', 'damage'], \n",
    "        show_legends=True)\n",
    "\n",
    "\n",
    "\n",
    "frames.to_csv(out_dir+\"/\"+model_name[cm]+m_version+'.csv')\n",
    "frames.to_excel(out_dir+\"/\"+model_name[cm]+m_version+'.xlsx', sheet_name=\"Sheet1\")\n",
    "\n",
    "plot = frames.plot()\n",
    "fig = plot.get_figure()\n",
    "fig.savefig(out_dir+\"/\"+model_name[cm]+m_version+\".png\")\n"
   ]
  },
  {
   "cell_type": "code",
   "execution_count": null,
   "metadata": {},
   "outputs": [],
   "source": []
  }
 ],
 "metadata": {
  "interpreter": {
   "hash": "0e093927afd9247c818cdf2259252e65ede1554a3c849b8c0a337fa257bcd3ce"
  },
  "kernelspec": {
   "display_name": "Python 3 (ipykernel)",
   "language": "python",
   "name": "python3"
  },
  "language_info": {
   "codemirror_mode": {
    "name": "ipython",
    "version": 3
   },
   "file_extension": ".py",
   "mimetype": "text/x-python",
   "name": "python",
   "nbconvert_exporter": "python",
   "pygments_lexer": "ipython3",
   "version": "3.9.12"
  }
 },
 "nbformat": 4,
 "nbformat_minor": 2
}
