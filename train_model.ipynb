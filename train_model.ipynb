{
 "cells": [
  {
   "cell_type": "code",
   "execution_count": 9,
   "metadata": {},
   "outputs": [],
   "source": [
    "from keras_segmentation.models.segnet import vgg_segnet\n",
    "import numpy as np\n",
    "import tempfile\n",
    "\n",
    "import sys \n",
    "\n",
    "import keras\n",
    "\n",
    "from keras_segmentation.models import all_models\n",
    "from keras_segmentation.data_utils.data_loader import \\\n",
    "    verify_segmentation_dataset, image_segmentation_generator\n",
    "from keras_segmentation.predict import predict_multiple, predict, evaluate\n",
    "\n",
    "\n",
    "from keras_segmentation.model_compression import perform_distilation\n",
    "from keras_segmentation.pretrained import pspnet_50_ADE_20K  "
   ]
  },
  {
   "cell_type": "code",
   "execution_count": 10,
   "metadata": {},
   "outputs": [],
   "source": [
    "model = vgg_segnet(n_classes=7, input_height=416, input_width=608  )\n",
    "check_path = tempfile.mktemp()"
   ]
  },
  {
   "cell_type": "code",
   "execution_count": 16,
   "metadata": {},
   "outputs": [
    {
     "name": "stdout",
     "output_type": "stream",
     "text": [
      "Verifying training dataset\n"
     ]
    },
    {
     "name": "stderr",
     "output_type": "stream",
     "text": [
      "100%|██████████| 185/185 [00:07<00:00, 23.73it/s]\n"
     ]
    },
    {
     "name": "stdout",
     "output_type": "stream",
     "text": [
      "Dataset verified! \n",
      "Verifying validation dataset\n"
     ]
    },
    {
     "name": "stderr",
     "output_type": "stream",
     "text": [
      "100%|██████████| 75/75 [00:03<00:00, 24.33it/s]\n"
     ]
    },
    {
     "name": "stdout",
     "output_type": "stream",
     "text": [
      "Dataset verified! \n",
      "Epoch 1/2\n"
     ]
    },
    {
     "name": "stderr",
     "output_type": "stream",
     "text": [
      "2022-06-16 01:53:20.352968: I tensorflow/core/grappler/optimizers/custom_graph_optimizer_registry.cc:113] Plugin optimizer for device_type GPU is enabled.\n"
     ]
    },
    {
     "name": "stdout",
     "output_type": "stream",
     "text": [
      "32/32 [==============================] - ETA: 0s - loss: 0.2115 - accuracy: 0.9631"
     ]
    },
    {
     "name": "stderr",
     "output_type": "stream",
     "text": [
      "2022-06-16 01:53:37.651234: I tensorflow/core/grappler/optimizers/custom_graph_optimizer_registry.cc:113] Plugin optimizer for device_type GPU is enabled.\n"
     ]
    },
    {
     "name": "stdout",
     "output_type": "stream",
     "text": [
      "\n",
      "Epoch 1: saving model to ./check/vgg_segnet_1.00001\n",
      "32/32 [==============================] - 22s 660ms/step - loss: 0.2115 - accuracy: 0.9631 - val_loss: 0.3396 - val_accuracy: 0.9378\n",
      "Epoch 2/2\n",
      "32/32 [==============================] - ETA: 0s - loss: 0.1191 - accuracy: 0.9726\n",
      "Epoch 2: saving model to ./check/vgg_segnet_1.00002\n",
      "32/32 [==============================] - 20s 633ms/step - loss: 0.1191 - accuracy: 0.9726 - val_loss: 0.6449 - val_accuracy: 0.8084\n"
     ]
    }
   ],
   "source": [
    "model.train(\n",
    "    train_images =  \"training_set/train_img/\",\n",
    "    train_annotations = \"training_set/train_ana/\",\n",
    "    validate=True,\n",
    "    val_images=\"training_set/val_img/\",\n",
    "    val_annotations=\"training_set/val_ana/\",\n",
    "    checkpoints_path = \"./check/vgg_segnet_1\" , epochs=2,\n",
    "    steps_per_epoch=32,\n",
    "    val_steps_per_epoch=32,\n",
    "    do_augment=True\n",
    ")"
   ]
  },
  {
   "cell_type": "code",
   "execution_count": null,
   "metadata": {},
   "outputs": [],
   "source": []
  }
 ],
 "metadata": {
  "interpreter": {
   "hash": "0e093927afd9247c818cdf2259252e65ede1554a3c849b8c0a337fa257bcd3ce"
  },
  "kernelspec": {
   "display_name": "Python 3.9.12 ('tensorflow26')",
   "language": "python",
   "name": "python3"
  },
  "language_info": {
   "codemirror_mode": {
    "name": "ipython",
    "version": 3
   },
   "file_extension": ".py",
   "mimetype": "text/x-python",
   "name": "python",
   "nbconvert_exporter": "python",
   "pygments_lexer": "ipython3",
   "version": "3.9.12"
  },
  "orig_nbformat": 4
 },
 "nbformat": 4,
 "nbformat_minor": 2
}
