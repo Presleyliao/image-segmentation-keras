{
 "cells": [
  {
   "cell_type": "code",
   "execution_count": 2,
   "metadata": {},
   "outputs": [],
   "source": [
    "from keras_segmentation.models.segnet import vgg_segnet\n",
    "import numpy as np\n",
    "import tempfile\n",
    "\n",
    "import sys \n",
    "\n",
    "import keras\n",
    "\n",
    "from keras_segmentation.models import all_models\n",
    "from keras_segmentation.data_utils.data_loader import \\\n",
    "    verify_segmentation_dataset, image_segmentation_generator\n",
    "from keras_segmentation.predict import predict_multiple, predict, evaluate\n",
    "\n",
    "\n",
    "from keras_segmentation.model_compression import perform_distilation\n",
    "from keras_segmentation.pretrained import pspnet_50_ADE_20K  "
   ]
  },
  {
   "cell_type": "code",
   "execution_count": 3,
   "metadata": {},
   "outputs": [
    {
     "name": "stderr",
     "output_type": "stream",
     "text": [
      "2022-06-19 18:27:50.956745: I tensorflow/core/platform/cpu_feature_guard.cc:151] This TensorFlow binary is optimized with oneAPI Deep Neural Network Library (oneDNN) to use the following CPU instructions in performance-critical operations:  SSE4.1 SSE4.2 AVX AVX2 AVX512F FMA\n",
      "To enable them in other operations, rebuild TensorFlow with the appropriate compiler flags.\n",
      "2022-06-19 18:27:51.369970: I tensorflow/core/common_runtime/gpu/gpu_device.cc:1525] Created device /job:localhost/replica:0/task:0/device:GPU:0 with 22223 MB memory:  -> device: 0, name: GeForce RTX 3090, pci bus id: 0000:17:00.0, compute capability: 8.6\n"
     ]
    }
   ],
   "source": [
    "model = vgg_segnet(n_classes=7, input_height=416, input_width=608  )\n",
    "check_path = tempfile.mktemp()"
   ]
  },
  {
   "cell_type": "code",
   "execution_count": 5,
   "metadata": {},
   "outputs": [
    {
     "name": "stdout",
     "output_type": "stream",
     "text": [
      "Verifying training dataset\n"
     ]
    },
    {
     "name": "stderr",
     "output_type": "stream",
     "text": [
      "100%|█████████████████████████████████████████| 185/185 [00:05<00:00, 32.65it/s]\n"
     ]
    },
    {
     "name": "stdout",
     "output_type": "stream",
     "text": [
      "Dataset verified! \n",
      "Verifying validation dataset\n"
     ]
    },
    {
     "name": "stderr",
     "output_type": "stream",
     "text": [
      "100%|███████████████████████████████████████████| 75/75 [00:02<00:00, 32.88it/s]\n"
     ]
    },
    {
     "name": "stdout",
     "output_type": "stream",
     "text": [
      "Dataset verified! \n",
      "Epoch 1/2\n"
     ]
    },
    {
     "name": "stderr",
     "output_type": "stream",
     "text": [
      "2022-06-19 18:29:56.920074: I tensorflow/stream_executor/cuda/cuda_dnn.cc:368] Loaded cuDNN version 8201\n",
      "2022-06-19 18:29:57.626789: I tensorflow/core/platform/default/subprocess.cc:304] Start cannot spawn child process: No such file or directory\n"
     ]
    },
    {
     "name": "stdout",
     "output_type": "stream",
     "text": [
      "32/32 [==============================] - ETA: 0s - loss: 1.8702 - accuracy: 0.5281\n",
      "Epoch 1: saving model to ./check/vgg_segnet_1.00001\n",
      "32/32 [==============================] - 10s 199ms/step - loss: 1.8702 - accuracy: 0.5281 - val_loss: 95.0072 - val_accuracy: 0.0016\n",
      "Epoch 2/2\n",
      "32/32 [==============================] - ETA: 0s - loss: 1.0953 - accuracy: 0.8906\n",
      "Epoch 2: saving model to ./check/vgg_segnet_1.00002\n",
      "32/32 [==============================] - 6s 193ms/step - loss: 1.0953 - accuracy: 0.8906 - val_loss: 1.0657 - val_accuracy: 0.9294\n"
     ]
    }
   ],
   "source": [
    "model.train(\n",
    "    train_images =  \"training_set/train_img/\",\n",
    "    train_annotations = \"training_set/train_ana/\",\n",
    "    validate=True,\n",
    "    val_images=\"training_set/val_img/\",\n",
    "    val_annotations=\"training_set/val_ana/\",\n",
    "    checkpoints_path = \"./check/vgg_segnet_1\" , epochs=2,\n",
    "    steps_per_epoch=32,\n",
    "    val_steps_per_epoch=32,\n",
    "    do_augment=False\n",
    ")"
   ]
  },
  {
   "cell_type": "code",
   "execution_count": null,
   "metadata": {},
   "outputs": [],
   "source": []
  }
 ],
 "metadata": {
  "interpreter": {
   "hash": "0e093927afd9247c818cdf2259252e65ede1554a3c849b8c0a337fa257bcd3ce"
  },
  "kernelspec": {
   "display_name": "Python 3 (ipykernel)",
   "language": "python",
   "name": "python3"
  },
  "language_info": {
   "codemirror_mode": {
    "name": "ipython",
    "version": 3
   },
   "file_extension": ".py",
   "mimetype": "text/x-python",
   "name": "python",
   "nbconvert_exporter": "python",
   "pygments_lexer": "ipython3",
   "version": "3.9.13"
  }
 },
 "nbformat": 4,
 "nbformat_minor": 2
}
